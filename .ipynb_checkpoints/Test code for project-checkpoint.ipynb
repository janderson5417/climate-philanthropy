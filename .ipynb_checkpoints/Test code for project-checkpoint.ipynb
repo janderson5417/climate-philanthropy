{
 "cells": [
  {
   "cell_type": "code",
   "execution_count": 2,
   "id": "100de519",
   "metadata": {},
   "outputs": [],
   "source": [
    "import pandas as pd\n",
    "from collections import Counter, defaultdict"
   ]
  },
  {
   "cell_type": "code",
   "execution_count": 36,
   "id": "edd125f0",
   "metadata": {},
   "outputs": [],
   "source": [
    "#lst = ['human', 'water', 'energy', 'waste', 'green', 'community', 'project']"
   ]
  },
  {
   "cell_type": "code",
   "execution_count": 27,
   "id": "e7d32ca4",
   "metadata": {},
   "outputs": [],
   "source": [
    "# test_str = \"lawyers association for human rights of nepalese indigenous peoples(lahurnip) \\\n",
    "# will use funds to conduct research on the proposed upper trushuli-1 hydropower plant project�'s \\\n",
    "# impact on indigenous communities in the rashuwa district of nepal�'s himalayan region. the upper trushuli-1 \\\n",
    "# hydropower plant is a private sector project intended to generate power for the capital, kathmandu. though a \\\n",
    "# private sector project, the world bank�'s international financial corporation (ifc), is part owner, and the \\\n",
    "# green climate fund (gcf) has been approached to finance the project for its supposed climate benefits. both \\\n",
    "# ifc and gcf standards require obtaining free, prior and informed consent (fpic) from affected indigenous \\\n",
    "# peoples before funds are approved. however, no research has been conducted to assess the impact and secure \\\n",
    "# the fpic for indigenous communities. the project would impact 3 indigenous villages (dhunche, haku, and ramche), \\\n",
    "# displacing many households and raising concerns about noise pollution, yet justifiable compensation access \\\n",
    "# has not been addressed. funds will be utilized to assess the project�'s violations of indigenous peoples�' \\\n",
    "# rights based on national and international law, create an overview of socio-economic and cultural impacts, \\\n",
    "# and gather the views and concerns of affected communities. further, the association will analyze the project�'s \\\n",
    "# implementation of the fpic of indigenous communities, culminating in a report detailing recommendations \\\n",
    "# as a basis for the advocacy of indigenous rights at the national and international level. specifically, \\\n",
    "# funds will offset consultant fees, payment to local coordinators and community organizers, costs of travel, \\\n",
    "# accommodation, and meetings in communities, report publication, and miscellaneous costs like stationery. \\\n",
    "# this project benefits indigenous communities involving approximately 30 community leaders and 20 more \\\n",
    "# government officials, project officials, and concerned stakeholders. it is indigenous-led\""
   ]
  },
  {
   "cell_type": "code",
   "execution_count": 5,
   "id": "4d460906",
   "metadata": {},
   "outputs": [],
   "source": [
    "priority = {\n",
    "    'nbs': ['tree', 'forest', 'soil', 'biochar', 'permaculture', 'regenerative farm', \n",
    "       'plant', 'agriculture', 'fishing', 'land conservation', 'land resource', 'biodiversity',\n",
    "        'sustainable ag', 'natural resources', 'green','old growth','rainforest','REDD','canopy'],\n",
    "\n",
    "    'water': ['water', 'ocean', 'marine', 'kelp', 'seaweed', 'acid' , 'coastal', 'coral reef', \n",
    "         'blue', 'rivers', 'lakes', 'ocean conservation'],\n",
    "\n",
    "    'energy': ['renewable', 'solar', 'clean', 'energy', 'transition', 'electric', 'fossil fuels'],\n",
    "\n",
    "    'waste': ['circular economy', 'reuse', 'compost', 'waste', 'recycle' ],\n",
    "\n",
    "    'decarb': ['carbon removal', 'GHG', 'emissions', 'greenhouse gas', 'decarbonization', 'carbon dioxide', 'CO2', \n",
    "          'carbon capture', 'carbon', 'carbon capture and storage', 'offset', 'DAC', 'direct air capture', 'innovation', 'pollut', 'methane'],\n",
    "\n",
    "    'advocacy': ['policies', 'policy', 'politic', 'advoca', 'action', 'justice' , 'fight', 'inclusive', 'inequality', 'poor', 'poverty', 'community'],\n",
    "\n",
    "    'other': ['art', 'culture', 'camp', 'health']}"
   ]
  },
  {
   "cell_type": "code",
   "execution_count": 40,
   "id": "ba66dbee",
   "metadata": {},
   "outputs": [],
   "source": [
    "# def word_cnt(string):\n",
    "#     cnt = Counter()\n",
    "    \n",
    "#     for string in ['human', 'rights', 'project', 'research', 'indigenous', 'for', 'and']:\n",
    "#         cnt[word] += 1"
   ]
  },
  {
   "cell_type": "code",
   "execution_count": 3,
   "id": "77492008",
   "metadata": {},
   "outputs": [],
   "source": [
    "df = pd.read_csv('Grants.csv')"
   ]
  },
  {
   "cell_type": "code",
   "execution_count": 4,
   "id": "b7c66165",
   "metadata": {},
   "outputs": [],
   "source": [
    "df['D_len'] = df.Description.str.split().str.len()"
   ]
  },
  {
   "cell_type": "code",
   "execution_count": 6,
   "id": "02b40a12",
   "metadata": {},
   "outputs": [],
   "source": [
    "df['D_lower'] = df.Description.str.lower()"
   ]
  },
  {
   "cell_type": "code",
   "execution_count": null,
   "id": "400057b7",
   "metadata": {},
   "outputs": [],
   "source": [
    "temp = df['D_lower'].iloc"
   ]
  },
  {
   "cell_type": "code",
   "execution_count": null,
   "id": "c1bc103a",
   "metadata": {},
   "outputs": [],
   "source": []
  },
  {
   "cell_type": "code",
   "execution_count": 44,
   "id": "ca98bd28",
   "metadata": {},
   "outputs": [
    {
     "data": {
      "text/plain": [
       "{'lawyers': 1,\n",
       " 'association': 2,\n",
       " 'for': 5,\n",
       " 'human': 1,\n",
       " 'rights': 3,\n",
       " 'of': 9,\n",
       " 'nepalese': 1,\n",
       " 'indigenous': 9,\n",
       " 'peoples(lahurnip)': 1,\n",
       " 'will': 4,\n",
       " 'use': 1,\n",
       " 'funds': 4,\n",
       " 'to': 6,\n",
       " 'conduct': 1,\n",
       " 'research': 2,\n",
       " 'on': 3,\n",
       " 'the': 17,\n",
       " 'proposed': 1,\n",
       " 'upper': 2,\n",
       " 'trushuli-1': 2,\n",
       " 'hydropower': 2,\n",
       " 'plant': 2,\n",
       " \"project�'s\": 3,\n",
       " 'impact': 3,\n",
       " 'communities': 2,\n",
       " 'in': 3,\n",
       " 'rashuwa': 1,\n",
       " 'district': 1,\n",
       " \"nepal�'s\": 1,\n",
       " 'himalayan': 1,\n",
       " 'region.': 1,\n",
       " 'is': 3,\n",
       " 'a': 4,\n",
       " 'private': 2,\n",
       " 'sector': 2,\n",
       " 'project': 5,\n",
       " 'intended': 1,\n",
       " 'generate': 1,\n",
       " 'power': 1,\n",
       " 'capital,': 1,\n",
       " 'kathmandu.': 1,\n",
       " 'though': 1,\n",
       " 'project,': 1,\n",
       " 'world': 1,\n",
       " \"bank�'s\": 1,\n",
       " 'international': 3,\n",
       " 'financial': 1,\n",
       " 'corporation': 1,\n",
       " '(ifc),': 1,\n",
       " 'part': 1,\n",
       " 'owner,': 1,\n",
       " 'and': 16,\n",
       " 'green': 1,\n",
       " 'climate': 2,\n",
       " 'fund': 1,\n",
       " '(gcf)': 1,\n",
       " 'has': 3,\n",
       " 'been': 3,\n",
       " 'approached': 1,\n",
       " 'finance': 1,\n",
       " 'its': 1,\n",
       " 'supposed': 1,\n",
       " 'benefits.': 1,\n",
       " 'both': 1,\n",
       " 'ifc': 1,\n",
       " 'gcf': 1,\n",
       " 'standards': 1,\n",
       " 'require': 1,\n",
       " 'obtaining': 1,\n",
       " 'free,': 1,\n",
       " 'prior': 1,\n",
       " 'informed': 1,\n",
       " 'consent': 1,\n",
       " '(fpic)': 1,\n",
       " 'from': 1,\n",
       " 'affected': 2,\n",
       " 'peoples': 1,\n",
       " 'before': 1,\n",
       " 'are': 1,\n",
       " 'approved.': 1,\n",
       " 'however,': 1,\n",
       " 'no': 1,\n",
       " 'conducted': 1,\n",
       " 'assess': 2,\n",
       " 'secure': 1,\n",
       " 'fpic': 2,\n",
       " 'communities.': 2,\n",
       " 'would': 1,\n",
       " '3': 1,\n",
       " 'villages': 1,\n",
       " '(dhunche,': 1,\n",
       " 'haku,': 1,\n",
       " 'ramche),': 1,\n",
       " 'displacing': 1,\n",
       " 'many': 1,\n",
       " 'households': 1,\n",
       " 'raising': 1,\n",
       " 'concerns': 2,\n",
       " 'about': 1,\n",
       " 'noise': 1,\n",
       " 'pollution,': 1,\n",
       " 'yet': 1,\n",
       " 'justifiable': 1,\n",
       " 'compensation': 1,\n",
       " 'access': 1,\n",
       " 'not': 1,\n",
       " 'addressed.': 1,\n",
       " 'be': 1,\n",
       " 'utilized': 1,\n",
       " 'violations': 1,\n",
       " \"peoples�'\": 1,\n",
       " 'based': 1,\n",
       " 'national': 2,\n",
       " 'law,': 1,\n",
       " 'create': 1,\n",
       " 'an': 1,\n",
       " 'overview': 1,\n",
       " 'socio-economic': 1,\n",
       " 'cultural': 1,\n",
       " 'impacts,': 1,\n",
       " 'gather': 1,\n",
       " 'views': 1,\n",
       " 'further,': 1,\n",
       " 'analyze': 1,\n",
       " 'implementation': 1,\n",
       " 'communities,': 2,\n",
       " 'culminating': 1,\n",
       " 'report': 2,\n",
       " 'detailing': 1,\n",
       " 'recommendations': 1,\n",
       " 'as': 1,\n",
       " 'basis': 1,\n",
       " 'advocacy': 1,\n",
       " 'at': 1,\n",
       " 'level.': 1,\n",
       " 'specifically,': 1,\n",
       " 'offset': 1,\n",
       " 'consultant': 1,\n",
       " 'fees,': 1,\n",
       " 'payment': 1,\n",
       " 'local': 1,\n",
       " 'coordinators': 1,\n",
       " 'community': 2,\n",
       " 'organizers,': 1,\n",
       " 'costs': 2,\n",
       " 'travel,': 1,\n",
       " 'accommodation,': 1,\n",
       " 'meetings': 1,\n",
       " 'publication,': 1,\n",
       " 'miscellaneous': 1,\n",
       " 'like': 1,\n",
       " 'stationery.': 1,\n",
       " 'this': 1,\n",
       " 'benefits': 1,\n",
       " 'involving': 1,\n",
       " 'approximately': 1,\n",
       " '30': 1,\n",
       " 'leaders': 1,\n",
       " '20': 1,\n",
       " 'more': 1,\n",
       " 'government': 1,\n",
       " 'officials,': 2,\n",
       " 'concerned': 1,\n",
       " 'stakeholders.': 1,\n",
       " 'it': 1,\n",
       " 'indigenous-led': 1}"
      ]
     },
     "execution_count": 44,
     "metadata": {},
     "output_type": "execute_result"
    }
   ],
   "source": [
    "from collections import Counter\n",
    "# list of strings\n",
    "#doc = [\"i am a fellow student\",\n",
    "#        \"we both are the good student\",\n",
    "#        \"a student works hard\"]\n",
    "\n",
    "count = dict(Counter(test_str.split()))\n",
    "count"
   ]
  },
  {
   "cell_type": "code",
   "execution_count": 47,
   "id": "d53fc23d",
   "metadata": {},
   "outputs": [],
   "source": [
    "priority = {\n",
    "    'nbs': ['tree', 'forest', 'soil', 'biochar', 'permaculture', 'regenerative farm', \n",
    "       'plant', 'agriculture', 'fishing', 'land conservation', 'land resource', 'biodiversity',\n",
    "        'sustainable ag', 'natural resources', 'green','old growth','rainforest','REDD','canopy'],\n",
    "\n",
    "    'water': ['water', 'ocean', 'marine', 'kelp', 'seaweed', 'acid' , 'coastal', 'coral reef', \n",
    "         'blue', 'rivers', 'lakes', 'ocean conservation'],\n",
    "\n",
    "    'energy': ['renewable', 'solar', 'clean', 'energy', 'transition', 'electric', 'fossil fuels'],\n",
    "\n",
    "    'waste': ['circular economy', 'reuse', 'compost', 'waste', 'recycle' ],\n",
    "\n",
    "    'decarb': ['carbon removal', 'GHG', 'emissions', 'greenhouse gas', 'decarbonization', 'carbon dioxide', 'CO2', \n",
    "          'carbon capture', 'carbon', 'carbon capture and storage', 'offset', 'DAC', 'direct air capture', 'innovation', 'pollut$', 'methane'],\n",
    "\n",
    "    'advocacy': ['policies', 'policy', 'politic', 'advoca', 'action', 'justice' , 'fight', 'inclusive', 'inequality', 'poor', 'poverty', 'cultural'],\n",
    "\n",
    "    'other': ['art', 'culture', 'camp', 'health']}"
   ]
  },
  {
   "cell_type": "code",
   "execution_count": 51,
   "id": "53125f0d",
   "metadata": {},
   "outputs": [
    {
     "data": {
      "text/plain": [
       "False"
      ]
     },
     "execution_count": 51,
     "metadata": {},
     "output_type": "execute_result"
    }
   ],
   "source": [
    "test_str.split() priority['advocacy']"
   ]
  },
  {
   "cell_type": "code",
   "execution_count": null,
   "id": "decbe451",
   "metadata": {},
   "outputs": [],
   "source": [
    "from collections import Counter\n",
    "\n",
    "words_dict = dict(Counter(test_str.split()))\n",
    "words_dict\n",
    "summ = 0 # a counter for # of hits\n",
    "for i in priority['nbs']: # iterate through your domain knowledge dictionary\n",
    "    if i in words_dict.keys(): # if your domain word shows up in word count\n",
    "        print(i) # print out domain word\n",
    "        summ += words[i] # add the total count of that domain word to your # hits counter\n",
    "summ # this goes into the NBS column"
   ]
  },
  {
   "cell_type": "code",
   "execution_count": null,
   "id": "870942ca",
   "metadata": {},
   "outputs": [],
   "source": []
  },
  {
   "cell_type": "code",
   "execution_count": null,
   "id": "e616fba4",
   "metadata": {},
   "outputs": [],
   "source": []
  },
  {
   "cell_type": "code",
   "execution_count": null,
   "id": "80e94c37",
   "metadata": {},
   "outputs": [],
   "source": [
    "data[\"Count\"] = (\n",
    "    data['col'].str.split()\n",
    "    .apply(Counter)\n",
    "    .apply(lambda counts: sum(word in counts for word in words))"
   ]
  },
  {
   "cell_type": "code",
   "execution_count": null,
   "id": "8836159f",
   "metadata": {},
   "outputs": [],
   "source": [
    "lst = ['tree', 'water', 'energy', 'waste', 'decarb', 'advocacy', 'other']"
   ]
  },
  {
   "cell_type": "code",
   "execution_count": null,
   "id": "abdf51ec",
   "metadata": {},
   "outputs": [],
   "source": []
  },
  {
   "cell_type": "code",
   "execution_count": 35,
   "id": "0c9f74dc",
   "metadata": {},
   "outputs": [
    {
     "name": "stdout",
     "output_type": "stream",
     "text": [
      "None\n"
     ]
    }
   ],
   "source": []
  },
  {
   "cell_type": "code",
   "execution_count": null,
   "id": "812f7258",
   "metadata": {},
   "outputs": [],
   "source": [
    "d = {\n",
    "    'nbs': ['tree', 'forest$', 'soil', 'biochar', 'permaculture', 'regen$ farm$', \n",
    "       'plant', 'agriculture', 'fishing', 'land conservation', 'land resource', 'biodiversity', \n",
    "       'sustainable ag$', 'natural resources', 'green', 'old growth', 'rainforest', 'REDD', 'canopy'],\n",
    "\n",
    "    'water': ['water', 'ocean', 'marine', 'kelp', 'seaweed', 'acid' , 'coastal', 'coral reef', \n",
    "         'blue', 'rivers', 'lakes', 'ocean conservation'],\n",
    "\n",
    "    'energy': ['renewable', 'solar', 'clean', 'energy', 'transition', 'electric', 'fossil fuels'],\n",
    "\n",
    "    'waste': ['circular economy', 'reuse', 'compost', 'waste', 'recycle' ],\n",
    "\n",
    "    'decarb': ['carbon removal', 'GHG', 'emissions', 'greenhouse gas', 'decarbonization', 'carbon dioxide', 'CO2', \n",
    "          'carbon capture', 'carbon', 'offset', 'DAC', 'direct air capture', 'innovation', 'pollution'],\n",
    "\n",
    "    'advocacy': ['policies', 'policy', 'advoca$', 'action', 'justice' , 'fight', 'inclusive'],\n",
    "\n",
    "    'other': ['art', 'culture', 'camp', 'health']}"
   ]
  },
  {
   "cell_type": "code",
   "execution_count": null,
   "id": "34093f0d",
   "metadata": {},
   "outputs": [],
   "source": []
  },
  {
   "cell_type": "code",
   "execution_count": null,
   "id": "83898f88",
   "metadata": {},
   "outputs": [],
   "source": []
  },
  {
   "cell_type": "code",
   "execution_count": null,
   "id": "9efa93f7",
   "metadata": {},
   "outputs": [],
   "source": []
  },
  {
   "cell_type": "code",
   "execution_count": null,
   "id": "a6f01877",
   "metadata": {},
   "outputs": [],
   "source": []
  },
  {
   "cell_type": "code",
   "execution_count": null,
   "id": "3146a048",
   "metadata": {},
   "outputs": [],
   "source": []
  },
  {
   "cell_type": "code",
   "execution_count": null,
   "id": "f5575070",
   "metadata": {},
   "outputs": [],
   "source": []
  }
 ],
 "metadata": {
  "kernelspec": {
   "display_name": "Python 3",
   "language": "python",
   "name": "python3"
  },
  "language_info": {
   "codemirror_mode": {
    "name": "ipython",
    "version": 3
   },
   "file_extension": ".py",
   "mimetype": "text/x-python",
   "name": "python",
   "nbconvert_exporter": "python",
   "pygments_lexer": "ipython3",
   "version": "3.8.8"
  }
 },
 "nbformat": 4,
 "nbformat_minor": 5
}
